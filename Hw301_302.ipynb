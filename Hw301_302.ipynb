{
 "cells": [
  {
   "cell_type": "code",
   "execution_count": 18,
   "metadata": {},
   "outputs": [
    {
     "name": "stdout",
     "output_type": "stream",
     "text": [
      "[1 2 3 4 5 6 7 8 9]\n",
      "[ 2  4  6  8 10 12 14 16 18]\n",
      "[ 3  6  9 12 15 18 21 24 27]\n",
      "[ 4  8 12 16 20 24 28 32 36]\n",
      "[ 5 10 15 20 25 30 35 40 45]\n",
      "[ 6 12 18 24 30 36 42 48 54]\n",
      "[ 7 14 21 28 35 42 49 56 63]\n",
      "[ 8 16 24 32 40 48 56 64 72]\n",
      "[ 9 18 27 36 45 54 63 72 81]\n"
     ]
    }
   ],
   "source": [
    "'''\n",
    "建立一個外觀 (9, 9) 的 ndarray 並且填入九九乘法表（hw301.py）\n",
    "'''\n",
    "import numpy as np\n",
    "i = np.arange(1,10)\n",
    "j = i\n",
    "i = np.array(i)\n",
    "j = np.array(j)\n",
    "for n in i:\n",
    "    ans = n*j\n",
    "    print ans"
   ]
  },
  {
   "cell_type": "code",
   "execution_count": 38,
   "metadata": {},
   "outputs": [
    {
     "name": "stdout",
     "output_type": "stream",
     "text": [
      "35.1032490695\n"
     ]
    }
   ],
   "source": [
    "'''\n",
    "利用 numpy 提供的 .size 屬性、.sum() 方法、.mean() 方法與 .sqrt() 實作樣本標準差函數（hw302.py）\n",
    "'''\n",
    "import numpy as np\n",
    "aList = [13,67,34,91,2,55,-1]\n",
    "aList = np.array(aList)\n",
    "ans = np.sqrt(np.sum((aList-np.mean(aList))**2)/(np.size(aList)-1))\n",
    "print ans\n"
   ]
  }
 ],
 "metadata": {
  "kernelspec": {
   "display_name": "Python 2",
   "language": "python",
   "name": "python2"
  },
  "language_info": {
   "codemirror_mode": {
    "name": "ipython",
    "version": 2
   },
   "file_extension": ".py",
   "mimetype": "text/x-python",
   "name": "python",
   "nbconvert_exporter": "python",
   "pygments_lexer": "ipython2",
   "version": "2.7.13"
  }
 },
 "nbformat": 4,
 "nbformat_minor": 2
}
