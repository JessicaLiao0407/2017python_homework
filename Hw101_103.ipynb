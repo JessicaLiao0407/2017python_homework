{
 "cells": [
  {
   "cell_type": "code",
   "execution_count": 24,
   "metadata": {},
   "outputs": [
    {
     "name": "stdout",
     "output_type": "stream",
     "text": [
      "3628800\n"
     ]
    }
   ],
   "source": [
    "# coding=utf-8\n",
    "'''\n",
    "計算 10!\n",
    "Author: 廖子慧\n",
    "'''\n",
    "def factorial(x):\n",
    "    if x == 0: \n",
    "        return 1\n",
    "    else:  \n",
    "        ft = 1\n",
    "        for i in range(x):\n",
    "            ft = ft * (i+1)\n",
    "        return ft\n",
    "\n",
    "print factorial(10)"
   ]
  },
  {
   "cell_type": "code",
   "execution_count": 30,
   "metadata": {},
   "outputs": [
    {
     "name": "stdout",
     "output_type": "stream",
     "text": [
      "[1, 1, 2, 6, 2, 1, 6, 6]\n",
      "8\n"
     ]
    }
   ],
   "source": [
    "'''\n",
    "投擲一枚公正的骰子，總共出現三個六才能停下來，請印出投擲總次數與投擲軌跡\n",
    "Author: 廖子慧\n",
    "'''\n",
    "from random import choice\n",
    "dice = [1,2,3,4,5,6]\n",
    "dice_throw = []\n",
    "count = 0\n",
    "while dice_throw.count(6) < 3 :\n",
    "    throw = choice(dice)\n",
    "    dice_throw.append(throw)\n",
    "print dice_throw\n",
    "print len(dice_throw)\n"
   ]
  },
  {
   "cell_type": "code",
   "execution_count": 31,
   "metadata": {},
   "outputs": [
    {
     "name": "stdout",
     "output_type": "stream",
     "text": [
      "1\n",
      "2\n",
      "Bingo!\n",
      "4\n",
      "Awesome!\n",
      "Bingo!\n",
      "7\n",
      "8\n",
      "Bingo!\n",
      "Awesome!\n",
      "11\n",
      "Bingo!\n",
      "13\n",
      "14\n",
      "Gotcha!\n",
      "16\n",
      "17\n",
      "Bingo!\n",
      "19\n",
      "Awesome!\n",
      "Bingo!\n",
      "22\n",
      "23\n",
      "Bingo!\n",
      "Awesome!\n",
      "26\n",
      "Bingo!\n",
      "28\n",
      "29\n",
      "Gotcha!\n",
      "31\n",
      "32\n",
      "Bingo!\n",
      "34\n",
      "Awesome!\n",
      "Bingo!\n",
      "37\n",
      "38\n",
      "Bingo!\n",
      "Awesome!\n",
      "41\n",
      "Bingo!\n",
      "43\n",
      "44\n",
      "Gotcha!\n",
      "46\n",
      "47\n",
      "Bingo!\n",
      "49\n",
      "Awesome!\n",
      "Bingo!\n",
      "52\n",
      "53\n",
      "Bingo!\n",
      "Awesome!\n",
      "56\n",
      "Bingo!\n",
      "58\n",
      "59\n",
      "Gotcha!\n",
      "61\n",
      "62\n",
      "Bingo!\n",
      "64\n",
      "Awesome!\n",
      "Bingo!\n",
      "67\n",
      "68\n",
      "Bingo!\n",
      "Awesome!\n",
      "71\n",
      "Bingo!\n",
      "73\n",
      "74\n",
      "Gotcha!\n",
      "76\n",
      "77\n",
      "Bingo!\n",
      "79\n",
      "Awesome!\n",
      "Bingo!\n",
      "82\n",
      "83\n",
      "Bingo!\n",
      "Awesome!\n",
      "86\n",
      "Bingo!\n",
      "88\n",
      "89\n",
      "Gotcha!\n",
      "91\n",
      "92\n",
      "Bingo!\n",
      "94\n",
      "Awesome!\n",
      "Bingo!\n",
      "97\n",
      "98\n",
      "Bingo!\n",
      "Awesome!\n"
     ]
    }
   ],
   "source": [
    "'''\n",
    "將 1 到 100 印出，但是碰到 3 的倍數的時候改為輸出 \"Bingo!\"，碰到 5 的倍數的時候改為輸出 \"Awesome!\"\n",
    "如果同時是 3 跟 5 的公倍數（15 的倍數），則輸出 \"Gotcha!\"\n",
    "Author: 廖子慧\n",
    "'''\n",
    "for i in range(1,101):\n",
    "    if i % 3 == 0 and i % 5 != 0:\n",
    "        print \"Bingo!\"\n",
    "    elif i % 3 != 0 and i % 5 == 0:\n",
    "        print \"Awesome!\"\n",
    "    elif i % 3 == 0 and i % 5 == 0:\n",
    "        print \"Gotcha!\"\n",
    "    else:\n",
    "        print i\n"
   ]
  }
 ],
 "metadata": {
  "kernelspec": {
   "display_name": "Python 2",
   "language": "python",
   "name": "python2"
  },
  "language_info": {
   "codemirror_mode": {
    "name": "ipython",
    "version": 2
   },
   "file_extension": ".py",
   "mimetype": "text/x-python",
   "name": "python",
   "nbconvert_exporter": "python",
   "pygments_lexer": "ipython2",
   "version": "2.7.13"
  }
 },
 "nbformat": 4,
 "nbformat_minor": 2
}
