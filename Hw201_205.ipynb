{
 "cells": [
  {
   "cell_type": "code",
   "execution_count": 6,
   "metadata": {},
   "outputs": [
    {
     "name": "stdout",
     "output_type": "stream",
     "text": [
      "False\n",
      "True\n",
      "False\n"
     ]
    }
   ],
   "source": [
    "'''\n",
    "實作質數判斷函數 is_prime()，可以判斷輸入的數字是否為質數（hw201.py）\n",
    "'''\n",
    "def is_prime(x):\n",
    "    if x < 2:\n",
    "        return False\n",
    "    else:\n",
    "        for i in range(2,x):\n",
    "            if x % i == 0:\n",
    "                return False\n",
    "        return True\n",
    "    \n",
    "print is_prime(1)    \n",
    "print is_prime(13)\n",
    "print is_prime(20)            "
   ]
  },
  {
   "cell_type": "code",
   "execution_count": 7,
   "metadata": {},
   "outputs": [
    {
     "name": "stdout",
     "output_type": "stream",
     "text": [
      "[2, 3, 5, 8, 13, 21]\n"
     ]
    }
   ],
   "source": [
    "'''\n",
    "寫一個 Fibonacci 數列的產生函數 fib_gen()\n",
    "有三個輸入：第一個數字、第二個數字與數列長度（hw202.py）\n",
    "--->可以指定3個東西，可以輸入希望這個數字有多長（不用做例外處理）\n",
    "'''\n",
    "def fib_gen(x,y,fib_len):\n",
    "    first = x\n",
    "    second = y\n",
    "    fib_list = [x,y]#先把一開始輸入的兩個數放到數列裡\n",
    "    for i in range(fib_len-2):#把一開始的兩個數字扣掉\n",
    "        third = first + second\n",
    "        fib_list.append(third)#上一行剛出來的數字append到數列裡\n",
    "        first = second #新的first會變成上一個second\n",
    "        second = third #新的second會變成這次迭代中算出來的third\n",
    "        #要在這裡把新的角色設定好，下一輪迭代才能再繼續算出新的數字\n",
    "    return fib_list\n",
    "\n",
    "print fib_gen(2,3,6)"
   ]
  },
  {
   "cell_type": "code",
   "execution_count": 8,
   "metadata": {},
   "outputs": [
    {
     "name": "stdout",
     "output_type": "stream",
     "text": [
      "[-1, 2, 13, 34, 55, 67, 91]\n",
      "[105, 76, 5, 4, 2, -3, -17]\n"
     ]
    }
   ],
   "source": [
    "'''\n",
    "實作交換排序法函數 exchange_sort()，並且有一個參數可以決定要遞增或遞減排序（hw203.py）\n",
    "--->輸入數列＆可輸入遞增或遞減=>泡泡排序法\n",
    "'''\n",
    "def exchange_sort(aList,adsort):\n",
    "    for i in range(len(aList)):\n",
    "        for j in range(i+1,len(aList)):\n",
    "            if aList[i] > aList[j]:\n",
    "                tmp1 = aList[i]\n",
    "                tmp2 = aList[j]\n",
    "                aList[i] = tmp2\n",
    "                aList[j] = tmp1\n",
    "    if adsort == 'd':\n",
    "        dList = aList[::-1]\n",
    "        return dList\n",
    "    else:\n",
    "        return aList\n",
    "                \n",
    "aList = [13,67,34,91,2,55,-1]\n",
    "bList = [5,105,2,76,4,-3,-17]\n",
    "print exchange_sort(aList,adsort='a')\n",
    "print exchange_sort(bList,adsort='d')"
   ]
  },
  {
   "cell_type": "code",
   "execution_count": 11,
   "metadata": {
    "scrolled": false
   },
   "outputs": [
    {
     "data": {
      "text/plain": [
       "4.0"
      ]
     },
     "execution_count": 11,
     "metadata": {},
     "output_type": "execute_result"
    }
   ],
   "source": [
    "'''\n",
    "實作用二分搜尋法逼進平方根的函數 my_sqrt()，逼近區間可以自行決定（hw204.py）\n",
    "--->數值分析，可設計誤差範圍\n",
    "'''\n",
    "epson = 0.0001\n",
    "def my_sqrt(x):\n",
    "    up = x\n",
    "    lw = 0.0\n",
    "    h = (up+lw)/2.0\n",
    "    dist = abs(h - x)\n",
    "    while dist > epson:\n",
    "        s=h**2\n",
    "        if s > x:\n",
    "            up = h\n",
    "            h=(lw+h)/2.0\n",
    "        elif s < x:\n",
    "            lw = h\n",
    "            h=(up+h)/2.0\n",
    "        elif s == x:\n",
    "            break\n",
    "        dist = abs(h**2 - x)\n",
    "    return h\n",
    "        \n",
    "my_sqrt(16)   "
   ]
  },
  {
   "cell_type": "code",
   "execution_count": 10,
   "metadata": {},
   "outputs": [
    {
     "name": "stdout",
     "output_type": "stream",
     "text": [
      "35.1032490695\n",
      "1.0\n"
     ]
    }
   ],
   "source": [
    "'''\n",
    "實作樣本標準差的函數 my_sd()，可以使用 math.sqrt() 或前一題自訂的 my_sqrt()（hw205.py）\n",
    "'''\n",
    "import math\n",
    "\n",
    "def my_sum(x):\n",
    "    summation = 0.0\n",
    "    for i in x:\n",
    "        summation += i\n",
    "    return summation\n",
    "\n",
    "def my_sd(aList):\n",
    "    my_mean = float(my_sum(aList)/len(aList))\n",
    "    sq_list = []\n",
    "    for i in aList:\n",
    "        dist_sq = (i - my_mean)**2\n",
    "        sq_list.append(dist_sq)\n",
    "    ans = math.sqrt(my_sum(sq_list)/(len(aList)-1))\n",
    "    return ans\n",
    "    \n",
    "aList = [13,67,34,91,2,55,-1]\n",
    "bList = [1,2,3]\n",
    "print my_sd(aList)\n",
    "print my_sd(bList)"
   ]
  },
  {
   "cell_type": "code",
   "execution_count": null,
   "metadata": {
    "collapsed": true
   },
   "outputs": [],
   "source": []
  }
 ],
 "metadata": {
  "kernelspec": {
   "display_name": "Python 2",
   "language": "python",
   "name": "python2"
  },
  "language_info": {
   "codemirror_mode": {
    "name": "ipython",
    "version": 2
   },
   "file_extension": ".py",
   "mimetype": "text/x-python",
   "name": "python",
   "nbconvert_exporter": "python",
   "pygments_lexer": "ipython2",
   "version": "2.7.13"
  }
 },
 "nbformat": 4,
 "nbformat_minor": 2
}
